{
 "cells": [
  {
   "cell_type": "markdown",
   "id": "c3704d65",
   "metadata": {},
   "source": [
    "# Import"
   ]
  },
  {
   "cell_type": "code",
   "execution_count": 1,
   "id": "821579f3",
   "metadata": {},
   "outputs": [
    {
     "name": "stderr",
     "output_type": "stream",
     "text": [
      "2025-07-08 02:33:09.380678: I tensorflow/core/util/port.cc:153] oneDNN custom operations are on. You may see slightly different numerical results due to floating-point round-off errors from different computation orders. To turn them off, set the environment variable `TF_ENABLE_ONEDNN_OPTS=0`.\n",
      "2025-07-08 02:33:09.388026: E external/local_xla/xla/stream_executor/cuda/cuda_fft.cc:467] Unable to register cuFFT factory: Attempting to register factory for plugin cuFFT when one has already been registered\n",
      "WARNING: All log messages before absl::InitializeLog() is called are written to STDERR\n",
      "E0000 00:00:1751934789.396500  214746 cuda_dnn.cc:8579] Unable to register cuDNN factory: Attempting to register factory for plugin cuDNN when one has already been registered\n",
      "E0000 00:00:1751934789.399052  214746 cuda_blas.cc:1407] Unable to register cuBLAS factory: Attempting to register factory for plugin cuBLAS when one has already been registered\n",
      "W0000 00:00:1751934789.405656  214746 computation_placer.cc:177] computation placer already registered. Please check linkage and avoid linking the same target more than once.\n",
      "W0000 00:00:1751934789.405665  214746 computation_placer.cc:177] computation placer already registered. Please check linkage and avoid linking the same target more than once.\n",
      "W0000 00:00:1751934789.405666  214746 computation_placer.cc:177] computation placer already registered. Please check linkage and avoid linking the same target more than once.\n",
      "W0000 00:00:1751934789.405667  214746 computation_placer.cc:177] computation placer already registered. Please check linkage and avoid linking the same target more than once.\n",
      "2025-07-08 02:33:09.408213: I tensorflow/core/platform/cpu_feature_guard.cc:210] This TensorFlow binary is optimized to use available CPU instructions in performance-critical operations.\n",
      "To enable the following instructions: AVX2 AVX_VNNI FMA, in other operations, rebuild TensorFlow with the appropriate compiler flags.\n"
     ]
    }
   ],
   "source": [
    "\n",
    "import matplotlib.pyplot as plt\n",
    "import sys\n",
    "import os\n",
    "from tqdm import tqdm\n",
    "import scipy.io as sio\n",
    "\n",
    "sys.path.append(os.path.abspath(\"../src\"))\n",
    "\n",
    "from utils.mpiifacegaze_dataset import *\n",
    "import torch\n",
    "from torch.utils.data import DataLoader\n",
    "from tracker import GazeModel\n",
    "from utils.mpiifacegaze_dataset import *\n",
    "\n",
    "from sklearn.model_selection import train_test_split\n",
    "\n",
    "device = torch.device(\"cuda\" if torch.cuda.is_available() else \"cpu\")"
   ]
  },
  {
   "cell_type": "code",
   "execution_count": 2,
   "id": "99eb08b0",
   "metadata": {},
   "outputs": [
    {
     "name": "stdout",
     "output_type": "stream",
     "text": [
      "NVIDIA GeForce RTX 4090\n"
     ]
    }
   ],
   "source": [
    "print(f\"{torch.cuda.get_device_name(torch.cuda.current_device())}\")"
   ]
  },
  {
   "cell_type": "markdown",
   "id": "ba9d4510",
   "metadata": {},
   "source": [
    "# Preprocessing - Stats"
   ]
  },
  {
   "cell_type": "code",
   "execution_count": 3,
   "id": "5c70a326",
   "metadata": {},
   "outputs": [],
   "source": [
    "dataset = MPIIFaceGazeDataset(root_dir='../dataset/MPIIFaceGaze/')\n",
    "df = dataset.to_dataframe(normalize=False)"
   ]
  },
  {
   "cell_type": "code",
   "execution_count": 4,
   "id": "06446094",
   "metadata": {},
   "outputs": [
    {
     "name": "stdout",
     "output_type": "stream",
     "text": [
      "  subject                                    img_path  gaze_x  gaze_y\n",
      "0     p00  ../dataset/MPIIFaceGaze/p00/day01/0005.jpg   476.0   758.0\n",
      "1     p00  ../dataset/MPIIFaceGaze/p00/day01/0030.jpg  1078.0   693.0\n",
      "2     p00  ../dataset/MPIIFaceGaze/p00/day01/0031.jpg   126.0   598.0\n",
      "3     p00  ../dataset/MPIIFaceGaze/p00/day01/0038.jpg   211.0    69.0\n",
      "4     p00  ../dataset/MPIIFaceGaze/p00/day01/0063.jpg   878.0   752.0\n"
     ]
    }
   ],
   "source": [
    "print(df.head())"
   ]
  },
  {
   "cell_type": "code",
   "execution_count": 5,
   "id": "dd8b94d2",
   "metadata": {},
   "outputs": [
    {
     "data": {
      "text/plain": [
       "37667"
      ]
     },
     "execution_count": 5,
     "metadata": {},
     "output_type": "execute_result"
    }
   ],
   "source": [
    "len(dataset)"
   ]
  },
  {
   "cell_type": "code",
   "execution_count": 6,
   "id": "a0eee4f6",
   "metadata": {},
   "outputs": [
    {
     "data": {
      "image/png": "[encoded data removed]",
      "text/plain": [
       "<Figure size 800x400 with 1 Axes>"
      ]
     },
     "metadata": {},
     "output_type": "display_data"
    }
   ],
   "source": [
    "dataset.plot_screen_size_histogram()"
   ]
  },
  {
   "cell_type": "code",
   "execution_count": 7,
   "id": "0d5d696b",
   "metadata": {},
   "outputs": [],
   "source": [
    "df = dataset.to_dataframe(normalize=True)"
   ]
  },
  {
   "cell_type": "code",
   "execution_count": 8,
   "id": "f96de875",
   "metadata": {},
   "outputs": [
    {
     "data": {
      "text/html": [
       "<div>\n",
       "<style scoped>\n",
       "    .dataframe tbody tr th:only-of-type {\n",
       "        vertical-align: middle;\n",
       "    }\n",
       "\n",
       "    .dataframe tbody tr th {\n",
       "        vertical-align: top;\n",
       "    }\n",
       "\n",
       "    .dataframe thead th {\n",
       "        text-align: right;\n",
       "    }\n",
       "</style>\n",
       "<table border=\"1\" class=\"dataframe\">\n",
       "  <thead>\n",
       "    <tr style=\"text-align: right;\">\n",
       "      <th></th>\n",
       "      <th>subject</th>\n",
       "      <th>img_path</th>\n",
       "      <th>gaze_x</th>\n",
       "      <th>gaze_y</th>\n",
       "    </tr>\n",
       "  </thead>\n",
       "  <tbody>\n",
       "    <tr>\n",
       "      <th>0</th>\n",
       "      <td>p00</td>\n",
       "      <td>../dataset/MPIIFaceGaze/p00/day01/0005.jpg</td>\n",
       "      <td>0.371875</td>\n",
       "      <td>0.947500</td>\n",
       "    </tr>\n",
       "    <tr>\n",
       "      <th>1</th>\n",
       "      <td>p00</td>\n",
       "      <td>../dataset/MPIIFaceGaze/p00/day01/0030.jpg</td>\n",
       "      <td>0.842187</td>\n",
       "      <td>0.866250</td>\n",
       "    </tr>\n",
       "    <tr>\n",
       "      <th>2</th>\n",
       "      <td>p00</td>\n",
       "      <td>../dataset/MPIIFaceGaze/p00/day01/0031.jpg</td>\n",
       "      <td>0.098437</td>\n",
       "      <td>0.747500</td>\n",
       "    </tr>\n",
       "    <tr>\n",
       "      <th>3</th>\n",
       "      <td>p00</td>\n",
       "      <td>../dataset/MPIIFaceGaze/p00/day01/0038.jpg</td>\n",
       "      <td>0.164844</td>\n",
       "      <td>0.086250</td>\n",
       "    </tr>\n",
       "    <tr>\n",
       "      <th>4</th>\n",
       "      <td>p00</td>\n",
       "      <td>../dataset/MPIIFaceGaze/p00/day01/0063.jpg</td>\n",
       "      <td>0.685937</td>\n",
       "      <td>0.940000</td>\n",
       "    </tr>\n",
       "    <tr>\n",
       "      <th>...</th>\n",
       "      <td>...</td>\n",
       "      <td>...</td>\n",
       "      <td>...</td>\n",
       "      <td>...</td>\n",
       "    </tr>\n",
       "    <tr>\n",
       "      <th>37662</th>\n",
       "      <td>p14</td>\n",
       "      <td>../dataset/MPIIFaceGaze/p14/day07/0196.jpg</td>\n",
       "      <td>0.506944</td>\n",
       "      <td>0.153333</td>\n",
       "    </tr>\n",
       "    <tr>\n",
       "      <th>37663</th>\n",
       "      <td>p14</td>\n",
       "      <td>../dataset/MPIIFaceGaze/p14/day07/0197.jpg</td>\n",
       "      <td>0.668750</td>\n",
       "      <td>0.892222</td>\n",
       "    </tr>\n",
       "    <tr>\n",
       "      <th>37664</th>\n",
       "      <td>p14</td>\n",
       "      <td>../dataset/MPIIFaceGaze/p14/day07/0198.jpg</td>\n",
       "      <td>0.929861</td>\n",
       "      <td>0.890000</td>\n",
       "    </tr>\n",
       "    <tr>\n",
       "      <th>37665</th>\n",
       "      <td>p14</td>\n",
       "      <td>../dataset/MPIIFaceGaze/p14/day07/0199.jpg</td>\n",
       "      <td>0.945833</td>\n",
       "      <td>0.102222</td>\n",
       "    </tr>\n",
       "    <tr>\n",
       "      <th>37666</th>\n",
       "      <td>p14</td>\n",
       "      <td>../dataset/MPIIFaceGaze/p14/day07/0200.jpg</td>\n",
       "      <td>0.238889</td>\n",
       "      <td>0.981111</td>\n",
       "    </tr>\n",
       "  </tbody>\n",
       "</table>\n",
       "<p>37667 rows × 4 columns</p>\n",
       "</div>"
      ],
      "text/plain": [
       "      subject                                    img_path    gaze_x    gaze_y\n",
       "0         p00  ../dataset/MPIIFaceGaze/p00/day01/0005.jpg  0.371875  0.947500\n",
       "1         p00  ../dataset/MPIIFaceGaze/p00/day01/0030.jpg  0.842187  0.866250\n",
       "2         p00  ../dataset/MPIIFaceGaze/p00/day01/0031.jpg  0.098437  0.747500\n",
       "3         p00  ../dataset/MPIIFaceGaze/p00/day01/0038.jpg  0.164844  0.086250\n",
       "4         p00  ../dataset/MPIIFaceGaze/p00/day01/0063.jpg  0.685937  0.940000\n",
       "...       ...                                         ...       ...       ...\n",
       "37662     p14  ../dataset/MPIIFaceGaze/p14/day07/0196.jpg  0.506944  0.153333\n",
       "37663     p14  ../dataset/MPIIFaceGaze/p14/day07/0197.jpg  0.668750  0.892222\n",
       "37664     p14  ../dataset/MPIIFaceGaze/p14/day07/0198.jpg  0.929861  0.890000\n",
       "37665     p14  ../dataset/MPIIFaceGaze/p14/day07/0199.jpg  0.945833  0.102222\n",
       "37666     p14  ../dataset/MPIIFaceGaze/p14/day07/0200.jpg  0.238889  0.981111\n",
       "\n",
       "[37667 rows x 4 columns]"
      ]
     },
     "execution_count": 8,
     "metadata": {},
     "output_type": "execute_result"
    }
   ],
   "source": [
    "df"
   ]
  },
  {
   "cell_type": "code",
   "execution_count": 9,
   "id": "21a81fc0",
   "metadata": {},
   "outputs": [
    {
     "name": "stderr",
     "output_type": "stream",
     "text": [
      "libEGL warning: DRI3: Screen seems not DRI3 capable\n",
      "libEGL warning: DRI3: Screen seems not DRI3 capable\n",
      "MESA: error: ZINK: failed to choose pdev\n",
      "libEGL warning: egl: failed to create dri2 screen\n",
      "WARNING: All log messages before absl::InitializeLog() is called are written to STDERR\n",
      "I0000 00:00:1751934795.413326  214746 gl_context_egl.cc:85] Successfully initialized EGL. Major : 1 Minor: 5\n",
      "I0000 00:00:1751934795.423730  214922 gl_context.cc:369] GL version: 3.1 (OpenGL ES 3.1 Mesa 24.2.8-1ubuntu1~24.04.1), renderer: D3D12 (NVIDIA GeForce RTX 4090)\n",
      "Computing mean tensors:   0%|          | 0/1178 [00:00<?, ?it/s]INFO: Created TensorFlow Lite XNNPACK delegate for CPU.\n",
      "W0000 00:00:1751934795.435683  214881 inference_feedback_manager.cc:114] Feedback manager requires a model with a single signature inference. Disabling support for feedback tensors.\n",
      "W0000 00:00:1751934795.443982  214907 inference_feedback_manager.cc:114] Feedback manager requires a model with a single signature inference. Disabling support for feedback tensors.\n",
      "W0000 00:00:1751934795.445702  214901 landmark_projection_calculator.cc:186] Using NORM_RECT without IMAGE_DIMENSIONS is only supported for the square ROI. Provide IMAGE_DIMENSIONS or use PROJECTION_MATRIX.\n",
      "Computing mean tensors: 100%|██████████| 1178/1178 [03:51<00:00,  5.08it/s]"
     ]
    },
    {
     "name": "stdout",
     "output_type": "stream",
     "text": [
      "Means saved successfully in:\n",
      "  → ../src/mat/mean_face_224_MPIIFace.mat\n",
      "  → ../src/mat/mean_left_224_MPIIFace.mat\n",
      "  → ../src/mat/mean_right_224_MPIIFace.mat\n"
     ]
    },
    {
     "name": "stderr",
     "output_type": "stream",
     "text": [
      "\n"
     ]
    }
   ],
   "source": [
    "generate_means(df)"
   ]
  },
  {
   "cell_type": "code",
   "execution_count": null,
   "id": "27eb8935",
   "metadata": {},
   "outputs": [
    {
     "name": "stderr",
     "output_type": "stream",
     "text": [
      "I0000 00:00:1751927613.417735  185041 gl_context_egl.cc:85] Successfully initialized EGL. Major : 1 Minor: 5\n",
      "I0000 00:00:1751927613.431500  186748 gl_context.cc:369] GL version: 3.1 (OpenGL ES 3.1 Mesa 24.2.8-1ubuntu1~24.04.1), renderer: D3D12 (NVIDIA GeForce RTX 4090)\n",
      "W0000 00:00:1751927613.439868  186721 inference_feedback_manager.cc:114] Feedback manager requires a model with a single signature inference. Disabling support for feedback tensors.\n",
      "I0000 00:00:1751927613.440623  185041 gl_context_egl.cc:85] Successfully initialized EGL. Major : 1 Minor: 5\n",
      "W0000 00:00:1751927613.449547  186735 inference_feedback_manager.cc:114] Feedback manager requires a model with a single signature inference. Disabling support for feedback tensors.\n",
      "I0000 00:00:1751927613.453064  186782 gl_context.cc:369] GL version: 3.1 (OpenGL ES 3.1 Mesa 24.2.8-1ubuntu1~24.04.1), renderer: D3D12 (NVIDIA GeForce RTX 4090)\n"
     ]
    },
    {
     "name": "stderr",
     "output_type": "stream",
     "text": [
      "W0000 00:00:1751927613.456255  186754 inference_feedback_manager.cc:114] Feedback manager requires a model with a single signature inference. Disabling support for feedback tensors.\n",
      "W0000 00:00:1751927613.466553  186773 inference_feedback_manager.cc:114] Feedback manager requires a model with a single signature inference. Disabling support for feedback tensors.\n"
     ]
    }
   ],
   "source": [
    "train_df, test_df = train_test_split(df, test_size=0.3, random_state=42)\n",
    "train_dataset = FaceGazeDataset(train_df)\n",
    "test_dataset = FaceGazeDataset(test_df)\n"
   ]
  },
  {
   "cell_type": "code",
   "execution_count": 14,
   "id": "c058c114",
   "metadata": {},
   "outputs": [],
   "source": [
    "train_loader = DataLoader(train_dataset, batch_size=32, shuffle=True)\n",
    "test_loader = DataLoader(test_dataset, batch_size=32, shuffle=False)\n"
   ]
  },
  {
   "cell_type": "code",
   "execution_count": 21,
   "id": "0940b586",
   "metadata": {},
   "outputs": [],
   "source": [
    "model = GazeModel().to(device)\n",
    "criterion = torch.nn.MSELoss()\n",
    "optimizer = torch.optim.Adam(model.parameters(), lr=1e-4)\n",
    "\n",
    "num_epochs = 20"
   ]
  },
  {
   "cell_type": "code",
   "execution_count": null,
   "id": "c9857a2a",
   "metadata": {},
   "outputs": [],
   "source": []
  },
  {
   "cell_type": "code",
   "execution_count": null,
   "id": "c24e86cb",
   "metadata": {},
   "outputs": [],
   "source": []
  }
 ],
 "metadata": {
  "kernelspec": {
   "display_name": "pfe",
   "language": "python",
   "name": "python3"
  },
  "language_info": {
   "codemirror_mode": {
    "name": "ipython",
    "version": 3
   },
   "file_extension": ".py",
   "mimetype": "text/x-python",
   "name": "python",
   "nbconvert_exporter": "python",
   "pygments_lexer": "ipython3",
   "version": "3.12.8"
  }
 },
 "nbformat": 4,
 "nbformat_minor": 5
}
