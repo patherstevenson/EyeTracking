{
 "cells": [
  {
   "cell_type": "markdown",
   "id": "c3704d65",
   "metadata": {},
   "source": [
    "# Import"
   ]
  },
  {
   "cell_type": "code",
   "execution_count": 1,
   "id": "821579f3",
   "metadata": {},
   "outputs": [
    {
     "name": "stderr",
     "output_type": "stream",
     "text": [
      "/home/pather/.local/lib/python3.12/site-packages/torch/utils/_pytree.py:185: FutureWarning: optree is installed but the version is too old to support PyTorch Dynamo in C++ pytree. C++ pytree support is disabled. Please consider upgrading optree using `python3 -m pip install --upgrade 'optree>=0.13.0'`.\n",
      "  warnings.warn(\n"
     ]
    }
   ],
   "source": [
    "\n",
    "import matplotlib.pyplot as plt\n",
    "import sys\n",
    "import os\n",
    "from tqdm import tqdm\n",
    "import scipy.io as sio\n",
    "\n",
    "sys.path.append(os.path.abspath(\"../src\"))\n",
    "\n",
    "from utils.mpiifacegaze_dataset import *\n",
    "import torch\n",
    "from torch.utils.data import DataLoader\n",
    "from tracker import GazeModel\n",
    "from utils.mpiifacegaze_dataset import *\n",
    "\n",
    "from sklearn.model_selection import train_test_split\n",
    "\n",
    "device = torch.device(\"cuda\" if torch.cuda.is_available() else \"cpu\")"
   ]
  },
  {
   "cell_type": "code",
   "execution_count": 2,
   "id": "99eb08b0",
   "metadata": {},
   "outputs": [
    {
     "name": "stdout",
     "output_type": "stream",
     "text": [
      "Quadro P1000\n"
     ]
    }
   ],
   "source": [
    "print(f\"{torch.cuda.get_device_name(torch.cuda.current_device())}\")"
   ]
  },
  {
   "cell_type": "markdown",
   "id": "ba9d4510",
   "metadata": {},
   "source": [
    "# Preprocessing - Stats"
   ]
  },
  {
   "cell_type": "code",
   "execution_count": 3,
   "id": "5c70a326",
   "metadata": {},
   "outputs": [],
   "source": [
    "dataset = MPIIFaceGazeDataset(root_dir='../dataset/MPIIFaceGaze/')\n",
    "df = dataset.to_dataframe(normalize=False)"
   ]
  },
  {
   "cell_type": "code",
   "execution_count": 4,
   "id": "06446094",
   "metadata": {},
   "outputs": [
    {
     "name": "stdout",
     "output_type": "stream",
     "text": [
      "  subject                                    img_path  gaze_x  gaze_y\n",
      "0     p00  ../dataset/MPIIFaceGaze/p00/day01/0005.jpg   476.0   758.0\n",
      "1     p00  ../dataset/MPIIFaceGaze/p00/day01/0030.jpg  1078.0   693.0\n",
      "2     p00  ../dataset/MPIIFaceGaze/p00/day01/0031.jpg   126.0   598.0\n",
      "3     p00  ../dataset/MPIIFaceGaze/p00/day01/0038.jpg   211.0    69.0\n",
      "4     p00  ../dataset/MPIIFaceGaze/p00/day01/0063.jpg   878.0   752.0\n"
     ]
    }
   ],
   "source": [
    "print(df.head())"
   ]
  },
  {
   "cell_type": "code",
   "execution_count": 5,
   "id": "dd8b94d2",
   "metadata": {},
   "outputs": [
    {
     "data": {
      "text/plain": [
       "37667"
      ]
     },
     "execution_count": 5,
     "metadata": {},
     "output_type": "execute_result"
    }
   ],
   "source": [
    "len(dataset)"
   ]
  },
  {
   "cell_type": "code",
   "execution_count": 6,
   "id": "a0eee4f6",
   "metadata": {},
   "outputs": [
    {
     "data": {
      "image/png": "[encoded data removed]",
      "text/plain": [
       "<Figure size 800x400 with 1 Axes>"
      ]
     },
     "metadata": {},
     "output_type": "display_data"
    }
   ],
   "source": [
    "dataset.plot_screen_size_histogram()"
   ]
  },
  {
   "cell_type": "code",
   "execution_count": 7,
   "id": "0d5d696b",
   "metadata": {},
   "outputs": [],
   "source": [
    "df = dataset.to_dataframe(normalize=True)"
   ]
  },
  {
   "cell_type": "code",
   "execution_count": 8,
   "id": "f96de875",
   "metadata": {},
   "outputs": [
    {
     "data": {
      "text/html": [
       "<div>\n",
       "<style scoped>\n",
       "    .dataframe tbody tr th:only-of-type {\n",
       "        vertical-align: middle;\n",
       "    }\n",
       "\n",
       "    .dataframe tbody tr th {\n",
       "        vertical-align: top;\n",
       "    }\n",
       "\n",
       "    .dataframe thead th {\n",
       "        text-align: right;\n",
       "    }\n",
       "</style>\n",
       "<table border=\"1\" class=\"dataframe\">\n",
       "  <thead>\n",
       "    <tr style=\"text-align: right;\">\n",
       "      <th></th>\n",
       "      <th>subject</th>\n",
       "      <th>img_path</th>\n",
       "      <th>gaze_x</th>\n",
       "      <th>gaze_y</th>\n",
       "    </tr>\n",
       "  </thead>\n",
       "  <tbody>\n",
       "    <tr>\n",
       "      <th>0</th>\n",
       "      <td>p00</td>\n",
       "      <td>../dataset/MPIIFaceGaze/p00/day01/0005.jpg</td>\n",
       "      <td>0.371875</td>\n",
       "      <td>0.947500</td>\n",
       "    </tr>\n",
       "    <tr>\n",
       "      <th>1</th>\n",
       "      <td>p00</td>\n",
       "      <td>../dataset/MPIIFaceGaze/p00/day01/0030.jpg</td>\n",
       "      <td>0.842187</td>\n",
       "      <td>0.866250</td>\n",
       "    </tr>\n",
       "    <tr>\n",
       "      <th>2</th>\n",
       "      <td>p00</td>\n",
       "      <td>../dataset/MPIIFaceGaze/p00/day01/0031.jpg</td>\n",
       "      <td>0.098437</td>\n",
       "      <td>0.747500</td>\n",
       "    </tr>\n",
       "    <tr>\n",
       "      <th>3</th>\n",
       "      <td>p00</td>\n",
       "      <td>../dataset/MPIIFaceGaze/p00/day01/0038.jpg</td>\n",
       "      <td>0.164844</td>\n",
       "      <td>0.086250</td>\n",
       "    </tr>\n",
       "    <tr>\n",
       "      <th>4</th>\n",
       "      <td>p00</td>\n",
       "      <td>../dataset/MPIIFaceGaze/p00/day01/0063.jpg</td>\n",
       "      <td>0.685937</td>\n",
       "      <td>0.940000</td>\n",
       "    </tr>\n",
       "    <tr>\n",
       "      <th>...</th>\n",
       "      <td>...</td>\n",
       "      <td>...</td>\n",
       "      <td>...</td>\n",
       "      <td>...</td>\n",
       "    </tr>\n",
       "    <tr>\n",
       "      <th>37662</th>\n",
       "      <td>p14</td>\n",
       "      <td>../dataset/MPIIFaceGaze/p14/day07/0196.jpg</td>\n",
       "      <td>0.506944</td>\n",
       "      <td>0.153333</td>\n",
       "    </tr>\n",
       "    <tr>\n",
       "      <th>37663</th>\n",
       "      <td>p14</td>\n",
       "      <td>../dataset/MPIIFaceGaze/p14/day07/0197.jpg</td>\n",
       "      <td>0.668750</td>\n",
       "      <td>0.892222</td>\n",
       "    </tr>\n",
       "    <tr>\n",
       "      <th>37664</th>\n",
       "      <td>p14</td>\n",
       "      <td>../dataset/MPIIFaceGaze/p14/day07/0198.jpg</td>\n",
       "      <td>0.929861</td>\n",
       "      <td>0.890000</td>\n",
       "    </tr>\n",
       "    <tr>\n",
       "      <th>37665</th>\n",
       "      <td>p14</td>\n",
       "      <td>../dataset/MPIIFaceGaze/p14/day07/0199.jpg</td>\n",
       "      <td>0.945833</td>\n",
       "      <td>0.102222</td>\n",
       "    </tr>\n",
       "    <tr>\n",
       "      <th>37666</th>\n",
       "      <td>p14</td>\n",
       "      <td>../dataset/MPIIFaceGaze/p14/day07/0200.jpg</td>\n",
       "      <td>0.238889</td>\n",
       "      <td>0.981111</td>\n",
       "    </tr>\n",
       "  </tbody>\n",
       "</table>\n",
       "<p>37667 rows × 4 columns</p>\n",
       "</div>"
      ],
      "text/plain": [
       "      subject                                    img_path    gaze_x    gaze_y\n",
       "0         p00  ../dataset/MPIIFaceGaze/p00/day01/0005.jpg  0.371875  0.947500\n",
       "1         p00  ../dataset/MPIIFaceGaze/p00/day01/0030.jpg  0.842187  0.866250\n",
       "2         p00  ../dataset/MPIIFaceGaze/p00/day01/0031.jpg  0.098437  0.747500\n",
       "3         p00  ../dataset/MPIIFaceGaze/p00/day01/0038.jpg  0.164844  0.086250\n",
       "4         p00  ../dataset/MPIIFaceGaze/p00/day01/0063.jpg  0.685937  0.940000\n",
       "...       ...                                         ...       ...       ...\n",
       "37662     p14  ../dataset/MPIIFaceGaze/p14/day07/0196.jpg  0.506944  0.153333\n",
       "37663     p14  ../dataset/MPIIFaceGaze/p14/day07/0197.jpg  0.668750  0.892222\n",
       "37664     p14  ../dataset/MPIIFaceGaze/p14/day07/0198.jpg  0.929861  0.890000\n",
       "37665     p14  ../dataset/MPIIFaceGaze/p14/day07/0199.jpg  0.945833  0.102222\n",
       "37666     p14  ../dataset/MPIIFaceGaze/p14/day07/0200.jpg  0.238889  0.981111\n",
       "\n",
       "[37667 rows x 4 columns]"
      ]
     },
     "execution_count": 8,
     "metadata": {},
     "output_type": "execute_result"
    }
   ],
   "source": [
    "df"
   ]
  },
  {
   "cell_type": "code",
   "execution_count": 9,
   "id": "21a81fc0",
   "metadata": {},
   "outputs": [
    {
     "name": "stderr",
     "output_type": "stream",
     "text": [
      "WARNING: All log messages before absl::InitializeLog() is called are written to STDERR\n",
      "I0000 00:00:1752069599.707201   47530 gl_context_egl.cc:85] Successfully initialized EGL. Major : 1 Minor: 5\n",
      "I0000 00:00:1752069599.709923   47604 gl_context.cc:369] GL version: 3.2 (OpenGL ES 3.2 Mesa 24.2.8-1ubuntu1~24.04.1), renderer: Mesa Intel(R) UHD Graphics 630 (CFL GT2)\n",
      "INFO: Created TensorFlow Lite XNNPACK delegate for CPU.\n",
      "Computing mean tensors:   0%|          | 0/1178 [00:00<?, ?it/s]W0000 00:00:1752069599.714554   47598 inference_feedback_manager.cc:114] Feedback manager requires a model with a single signature inference. Disabling support for feedback tensors.\n",
      "W0000 00:00:1752069599.734988   47588 inference_feedback_manager.cc:114] Feedback manager requires a model with a single signature inference. Disabling support for feedback tensors.\n",
      "W0000 00:00:1752069599.737893   47597 landmark_projection_calculator.cc:186] Using NORM_RECT without IMAGE_DIMENSIONS is only supported for the square ROI. Provide IMAGE_DIMENSIONS or use PROJECTION_MATRIX.\n",
      "Computing mean tensors:   2%|▏         | 18/1178 [00:06<07:29,  2.58it/s]\n"
     ]
    },
    {
     "ename": "KeyboardInterrupt",
     "evalue": "",
     "output_type": "error",
     "traceback": [
      "\u001b[31m---------------------------------------------------------------------------\u001b[39m",
      "\u001b[31mKeyboardInterrupt\u001b[39m                         Traceback (most recent call last)",
      "\u001b[36mCell\u001b[39m\u001b[36m \u001b[39m\u001b[32mIn[9]\u001b[39m\u001b[32m, line 1\u001b[39m\n\u001b[32m----> \u001b[39m\u001b[32m1\u001b[39m \u001b[43mgenerate_means\u001b[49m\u001b[43m(\u001b[49m\u001b[43mdf\u001b[49m\u001b[43m)\u001b[49m\n",
      "\u001b[36mFile \u001b[39m\u001b[32m~/Documents/EyeTracking/src/utils/mpiifacegaze_dataset.py:46\u001b[39m, in \u001b[36mgenerate_means\u001b[39m\u001b[34m(df, output_dir, batch_size, prefix)\u001b[39m\n\u001b[32m     44\u001b[39m \u001b[38;5;28;01mif\u001b[39;00m batch \u001b[38;5;129;01mis\u001b[39;00m \u001b[38;5;28;01mNone\u001b[39;00m:\n\u001b[32m     45\u001b[39m     \u001b[38;5;28;01mcontinue\u001b[39;00m\n\u001b[32m---> \u001b[39m\u001b[32m46\u001b[39m sum_face += \u001b[43mbatch\u001b[49m\u001b[43m[\u001b[49m\u001b[33;43m'\u001b[39;49m\u001b[33;43mface\u001b[39;49m\u001b[33;43m'\u001b[39;49m\u001b[43m]\u001b[49m\u001b[43m.\u001b[49m\u001b[43msum\u001b[49m\u001b[43m(\u001b[49m\u001b[43mdim\u001b[49m\u001b[43m=\u001b[49m\u001b[32;43m0\u001b[39;49m\u001b[43m)\u001b[49m          \u001b[38;5;66;03m# shape (3, H, W)\u001b[39;00m\n\u001b[32m     47\u001b[39m sum_eye_left += batch[\u001b[33m'\u001b[39m\u001b[33meye_left\u001b[39m\u001b[33m'\u001b[39m].sum(dim=\u001b[32m0\u001b[39m)\n\u001b[32m     48\u001b[39m sum_eye_right += batch[\u001b[33m'\u001b[39m\u001b[33meye_right\u001b[39m\u001b[33m'\u001b[39m].sum(dim=\u001b[32m0\u001b[39m)\n",
      "\u001b[31mKeyboardInterrupt\u001b[39m: "
     ]
    }
   ],
   "source": [
    "generate_means(df)"
   ]
  },
  {
   "cell_type": "code",
   "execution_count": null,
   "id": "27eb8935",
   "metadata": {},
   "outputs": [
    {
     "name": "stderr",
     "output_type": "stream",
     "text": [
      "I0000 00:00:1751927613.417735  185041 gl_context_egl.cc:85] Successfully initialized EGL. Major : 1 Minor: 5\n",
      "I0000 00:00:1751927613.431500  186748 gl_context.cc:369] GL version: 3.1 (OpenGL ES 3.1 Mesa 24.2.8-1ubuntu1~24.04.1), renderer: D3D12 (NVIDIA GeForce RTX 4090)\n",
      "W0000 00:00:1751927613.439868  186721 inference_feedback_manager.cc:114] Feedback manager requires a model with a single signature inference. Disabling support for feedback tensors.\n",
      "I0000 00:00:1751927613.440623  185041 gl_context_egl.cc:85] Successfully initialized EGL. Major : 1 Minor: 5\n",
      "W0000 00:00:1751927613.449547  186735 inference_feedback_manager.cc:114] Feedback manager requires a model with a single signature inference. Disabling support for feedback tensors.\n",
      "I0000 00:00:1751927613.453064  186782 gl_context.cc:369] GL version: 3.1 (OpenGL ES 3.1 Mesa 24.2.8-1ubuntu1~24.04.1), renderer: D3D12 (NVIDIA GeForce RTX 4090)\n"
     ]
    },
    {
     "name": "stderr",
     "output_type": "stream",
     "text": [
      "W0000 00:00:1751927613.456255  186754 inference_feedback_manager.cc:114] Feedback manager requires a model with a single signature inference. Disabling support for feedback tensors.\n",
      "W0000 00:00:1751927613.466553  186773 inference_feedback_manager.cc:114] Feedback manager requires a model with a single signature inference. Disabling support for feedback tensors.\n"
     ]
    }
   ],
   "source": [
    "train_df, test_df = train_test_split(df, test_size=0.3, random_state=42)\n",
    "train_dataset = FaceGazeDataset(train_df)\n",
    "test_dataset = FaceGazeDataset(test_df)\n"
   ]
  },
  {
   "cell_type": "code",
   "execution_count": 14,
   "id": "c058c114",
   "metadata": {},
   "outputs": [],
   "source": [
    "train_loader = DataLoader(train_dataset, batch_size=32, shuffle=True)\n",
    "test_loader = DataLoader(test_dataset, batch_size=32, shuffle=False)\n"
   ]
  },
  {
   "cell_type": "code",
   "execution_count": 21,
   "id": "0940b586",
   "metadata": {},
   "outputs": [],
   "source": [
    "model = GazeModel().to(device)\n",
    "criterion = torch.nn.MSELoss()\n",
    "optimizer = torch.optim.Adam(model.parameters(), lr=1e-4)\n",
    "\n",
    "num_epochs = 20"
   ]
  },
  {
   "cell_type": "code",
   "execution_count": 13,
   "id": "c9857a2a",
   "metadata": {},
   "outputs": [],
   "source": [
    "import cv2\n",
    "import mediapipe as mp\n",
    "from utils.utils import *"
   ]
  },
  {
   "cell_type": "code",
   "execution_count": 14,
   "id": "bf8a1d2a",
   "metadata": {},
   "outputs": [
    {
     "name": "stderr",
     "output_type": "stream",
     "text": [
      "I0000 00:00:1752069634.576916   47530 gl_context_egl.cc:85] Successfully initialized EGL. Major : 1 Minor: 5\n",
      "I0000 00:00:1752069634.578975   47665 gl_context.cc:369] GL version: 3.2 (OpenGL ES 3.2 Mesa 24.2.8-1ubuntu1~24.04.1), renderer: Mesa Intel(R) UHD Graphics 630 (CFL GT2)\n"
     ]
    },
    {
     "name": "stderr",
     "output_type": "stream",
     "text": [
      "W0000 00:00:1752069634.583791   47654 inference_feedback_manager.cc:114] Feedback manager requires a model with a single signature inference. Disabling support for feedback tensors.\n",
      "W0000 00:00:1752069634.601486   47653 inference_feedback_manager.cc:114] Feedback manager requires a model with a single signature inference. Disabling support for feedback tensors.\n"
     ]
    }
   ],
   "source": [
    "face_mesh = mp.solutions.face_mesh.FaceMesh(min_detection_confidence=0.3,refine_landmarks=True, max_num_faces=1)"
   ]
  },
  {
   "cell_type": "code",
   "execution_count": 15,
   "id": "41b8a859",
   "metadata": {},
   "outputs": [
    {
     "data": {
      "text/plain": [
       "'../dataset/MPIIFaceGaze/p00/day01/0347.jpg'"
      ]
     },
     "execution_count": 15,
     "metadata": {},
     "output_type": "execute_result"
    }
   ],
   "source": [
    "df.iloc[31][\"img_path\"]"
   ]
  },
  {
   "cell_type": "code",
   "execution_count": 16,
   "id": "a359f889",
   "metadata": {},
   "outputs": [],
   "source": [
    "img = cv2.imread(df.iloc[31][\"img_path\"])"
   ]
  },
  {
   "cell_type": "code",
   "execution_count": 17,
   "id": "eb2b2308",
   "metadata": {},
   "outputs": [],
   "source": [
    "\n",
    "img_rgb = cv2.cvtColor(img, cv2.COLOR_BGR2RGB)\n",
    "img_mp = face_mesh.process(img_rgb)"
   ]
  },
  {
   "cell_type": "code",
   "execution_count": 21,
   "id": "89398a9d",
   "metadata": {},
   "outputs": [],
   "source": [
    "h, w, _ = img.shape\n",
    "LEFT_EYE = [33, 133, 159, 160, 158, 144]\n",
    "RIGHT_EYE = [362, 263, 386, 387, 385, 373]\n"
   ]
  },
  {
   "cell_type": "code",
   "execution_count": 19,
   "id": "1746a020",
   "metadata": {},
   "outputs": [
    {
     "name": "stdout",
     "output_type": "stream",
     "text": [
      "face: (615, 407, 864, 712)\n",
      "left_eye : (650, 498, 700, 516)\n",
      "right_eye : (761, 482, 812, 499)\n"
     ]
    }
   ],
   "source": [
    "if img_mp.multi_face_landmarks:\n",
    "    for face_landmarks in img_mp.multi_face_landmarks:\n",
    "        landmarks = [(int(pt.x * w), int(pt.y * h)) for pt in face_landmarks.landmark]\n",
    "        face_bbox = get_bounding_box(FACE_OVAL, landmarks, w, h)\n",
    "        left_eye_bbox = get_bounding_box(LEFT_EYE, landmarks,w,h)\n",
    "        right_eye_bbox = get_bounding_box(RIGHT_EYE,landmarks,w,h)\n",
    "        print(\"face:\",face_bbox)\n",
    "        print(\"left_eye :\", left_eye_bbox)\n",
    "        print(\"right_eye :\", right_eye_bbox)"
   ]
  },
  {
   "cell_type": "code",
   "execution_count": 20,
   "id": "cfa844ce",
   "metadata": {},
   "outputs": [
    {
     "data": {
      "text/plain": [
       "<matplotlib.image.AxesImage at 0x7493bbea6420>"
      ]
     },
     "execution_count": 20,
     "metadata": {},
     "output_type": "execute_result"
    },
    {
     "data": {
      "image/png": "[encoded data removed]",
      "text/plain": [
       "<Figure size 640x480 with 1 Axes>"
      ]
     },
     "metadata": {},
     "output_type": "display_data"
    }
   ],
   "source": [
    "plt.imshow(img)"
   ]
  },
  {
   "cell_type": "code",
   "execution_count": 55,
   "id": "16326382",
   "metadata": {},
   "outputs": [
    {
     "data": {
      "text/plain": [
       "(540, 272, 812, 617)"
      ]
     },
     "execution_count": 55,
     "metadata": {},
     "output_type": "execute_result"
    }
   ],
   "source": [
    "face_bbox"
   ]
  },
  {
   "cell_type": "code",
   "execution_count": 54,
   "id": "8ce19089",
   "metadata": {},
   "outputs": [
    {
     "data": {
      "text/plain": [
       "(272, 617)"
      ]
     },
     "execution_count": 54,
     "metadata": {},
     "output_type": "execute_result"
    }
   ],
   "source": [
    "face_bbox[1],face_bbox[3]"
   ]
  },
  {
   "cell_type": "code",
   "execution_count": 56,
   "id": "8d2f358a",
   "metadata": {},
   "outputs": [],
   "source": [
    "face_roi = preprocess_roi(img[face_bbox[1]:face_bbox[3], face_bbox[0]:face_bbox[2]])\n"
   ]
  },
  {
   "cell_type": "code",
   "execution_count": 61,
   "id": "18571082",
   "metadata": {},
   "outputs": [],
   "source": [
    "left_eye_roi = preprocess_roi(img[left_eye_bbox[1]:left_eye_bbox[3], left_eye_bbox[0]:left_eye_bbox[2]])\n",
    "right_eye_roi = preprocess_roi(img[right_eye_bbox[1]:right_eye_bbox[3], right_eye_bbox[0]:right_eye_bbox[2]])"
   ]
  },
  {
   "cell_type": "code",
   "execution_count": null,
   "id": "3095e313",
   "metadata": {},
   "outputs": [],
   "source": []
  }
 ],
 "metadata": {
  "kernelspec": {
   "display_name": "pfe",
   "language": "python",
   "name": "python3"
  },
  "language_info": {
   "codemirror_mode": {
    "name": "ipython",
    "version": 3
   },
   "file_extension": ".py",
   "mimetype": "text/x-python",
   "name": "python",
   "nbconvert_exporter": "python",
   "pygments_lexer": "ipython3",
   "version": "3.12.9"
  }
 },
 "nbformat": 4,
 "nbformat_minor": 5
}
